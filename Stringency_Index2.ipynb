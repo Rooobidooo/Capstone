{
 "cells": [
  {
   "cell_type": "code",
   "execution_count": 1,
   "id": "24d1395e",
   "metadata": {},
   "outputs": [],
   "source": [
    "import pandas as pd\n",
    "import numpy as np"
   ]
  },
  {
   "cell_type": "code",
   "execution_count": 38,
   "id": "88098770",
   "metadata": {},
   "outputs": [],
   "source": [
    "#1.keep 3 columns 2. drop null \n",
    "df=pd.read_csv('stringency_index.csv')\n",
    "new_df=df[['location','date','stringency_index']]\n",
    "new_df=new_df.dropna()\n"
   ]
  },
  {
   "cell_type": "code",
   "execution_count": 39,
   "id": "2a932873",
   "metadata": {
    "scrolled": true
   },
   "outputs": [],
   "source": [
    "#1. overwriting date after changing format\n",
    "#2. transform date inte quarter format\n",
    "new_df['date'] = pd.to_datetime(new_df['date']) \n",
    "new_df['quarters']=new_df['date'].dt.to_period('Q')"
   ]
  },
  {
   "cell_type": "code",
   "execution_count": 40,
   "id": "0976dfd8",
   "metadata": {
    "scrolled": true
   },
   "outputs": [
    {
     "data": {
      "text/html": [
       "<div>\n",
       "<style scoped>\n",
       "    .dataframe tbody tr th:only-of-type {\n",
       "        vertical-align: middle;\n",
       "    }\n",
       "\n",
       "    .dataframe tbody tr th {\n",
       "        vertical-align: top;\n",
       "    }\n",
       "\n",
       "    .dataframe thead th {\n",
       "        text-align: right;\n",
       "    }\n",
       "</style>\n",
       "<table border=\"1\" class=\"dataframe\">\n",
       "  <thead>\n",
       "    <tr style=\"text-align: right;\">\n",
       "      <th></th>\n",
       "      <th></th>\n",
       "      <th>stringency_index</th>\n",
       "    </tr>\n",
       "    <tr>\n",
       "      <th>location</th>\n",
       "      <th>quarters</th>\n",
       "      <th></th>\n",
       "    </tr>\n",
       "  </thead>\n",
       "  <tbody>\n",
       "    <tr>\n",
       "      <th rowspan=\"5\" valign=\"top\">Afghanistan</th>\n",
       "      <th>2020Q1</th>\n",
       "      <td>35.561351</td>\n",
       "    </tr>\n",
       "    <tr>\n",
       "      <th>2020Q2</th>\n",
       "      <td>81.755385</td>\n",
       "    </tr>\n",
       "    <tr>\n",
       "      <th>2020Q3</th>\n",
       "      <td>52.858370</td>\n",
       "    </tr>\n",
       "    <tr>\n",
       "      <th>2020Q4</th>\n",
       "      <td>13.488804</td>\n",
       "    </tr>\n",
       "    <tr>\n",
       "      <th>2021Q1</th>\n",
       "      <td>16.196111</td>\n",
       "    </tr>\n",
       "    <tr>\n",
       "      <th>...</th>\n",
       "      <th>...</th>\n",
       "      <td>...</td>\n",
       "    </tr>\n",
       "    <tr>\n",
       "      <th rowspan=\"5\" valign=\"top\">Zimbabwe</th>\n",
       "      <th>2021Q2</th>\n",
       "      <td>54.192198</td>\n",
       "    </tr>\n",
       "    <tr>\n",
       "      <th>2021Q3</th>\n",
       "      <td>66.636848</td>\n",
       "    </tr>\n",
       "    <tr>\n",
       "      <th>2021Q4</th>\n",
       "      <td>52.949022</td>\n",
       "    </tr>\n",
       "    <tr>\n",
       "      <th>2022Q1</th>\n",
       "      <td>50.081333</td>\n",
       "    </tr>\n",
       "    <tr>\n",
       "      <th>2022Q2</th>\n",
       "      <td>48.420926</td>\n",
       "    </tr>\n",
       "  </tbody>\n",
       "</table>\n",
       "<p>1826 rows × 1 columns</p>\n",
       "</div>"
      ],
      "text/plain": [
       "                      stringency_index\n",
       "location    quarters                  \n",
       "Afghanistan 2020Q1           35.561351\n",
       "            2020Q2           81.755385\n",
       "            2020Q3           52.858370\n",
       "            2020Q4           13.488804\n",
       "            2021Q1           16.196111\n",
       "...                                ...\n",
       "Zimbabwe    2021Q2           54.192198\n",
       "            2021Q3           66.636848\n",
       "            2021Q4           52.949022\n",
       "            2022Q1           50.081333\n",
       "            2022Q2           48.420926\n",
       "\n",
       "[1826 rows x 1 columns]"
      ]
     },
     "execution_count": 40,
     "metadata": {},
     "output_type": "execute_result"
    }
   ],
   "source": [
    "#keep three new columns\n",
    "new_df= new_df[['location','quarters','stringency_index']]\n",
    "new_df = new_df.groupby(['location','quarters']).mean()"
   ]
  },
  {
   "cell_type": "code",
   "execution_count": 43,
   "id": "b5b14e1b",
   "metadata": {},
   "outputs": [],
   "source": [
    "from openpyxl import load_workbook\n",
    "workbook= load_workbook(filename='str_index2_1.xlsx')\n",
    "workbook.sheetnames\n",
    "sheet= workbook.active"
   ]
  },
  {
   "cell_type": "code",
   "execution_count": 81,
   "id": "a3631f42",
   "metadata": {},
   "outputs": [
    {
     "name": "stdout",
     "output_type": "stream",
     "text": [
      "Emerging Asia excl China\n",
      "Emerging Asia excl China\n",
      "Emerging Asia excl China\n",
      "Emerging Asia excl China\n",
      "Emerging Asia excl China\n",
      "Emerging Asia excl China\n",
      "Emerging Asia excl China\n",
      "Emerging Asia excl China\n",
      "Emerging Asia excl China\n"
     ]
    }
   ],
   "source": [
    "# changing location format to match trade monither\n",
    "EmergingAsiaexclChina=['Hong Kong','India','Indonesia','Philippines',\n",
    "                           'Korea','Malaysia','Pakistan',\n",
    "                          'Singapore','Taiwan','Thailand']\n",
    "\n",
    "for col in sheet.iter_cols(min_row=1,max_row= None,min_col= None,max_col=1,values_only=True):\n",
    "    for countries in col:\n",
    "        if countries is not None:\n",
    "            country= countries\n",
    "            if country in EmergingAsiaexclChina:\n",
    "                print('Emerging Asia excl China')\n"
   ]
  },
  {
   "cell_type": "code",
   "execution_count": 41,
   "id": "e2b6679c",
   "metadata": {},
   "outputs": [],
   "source": [
    "# new_df= new_df.to_excel('str_index2_1.xlsx')"
   ]
  }
 ],
 "metadata": {
  "kernelspec": {
   "display_name": "Python 3 (ipykernel)",
   "language": "python",
   "name": "python3"
  },
  "language_info": {
   "codemirror_mode": {
    "name": "ipython",
    "version": 3
   },
   "file_extension": ".py",
   "mimetype": "text/x-python",
   "name": "python",
   "nbconvert_exporter": "python",
   "pygments_lexer": "ipython3",
   "version": "3.9.12"
  }
 },
 "nbformat": 4,
 "nbformat_minor": 5
}
